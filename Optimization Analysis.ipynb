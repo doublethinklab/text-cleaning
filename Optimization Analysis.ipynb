{
 "cells": [
  {
   "cell_type": "code",
   "execution_count": 1,
   "id": "08bba2d2",
   "metadata": {},
   "outputs": [],
   "source": [
    "import json"
   ]
  },
  {
   "cell_type": "code",
   "execution_count": 2,
   "id": "4073e1fa",
   "metadata": {},
   "outputs": [],
   "source": [
    "with open('temp/india_slow_index.txt') as f:\n",
    "    ixs = [int(l.strip()) for l in f.readlines()]"
   ]
  },
  {
   "cell_type": "code",
   "execution_count": 4,
   "id": "4349a7ab",
   "metadata": {},
   "outputs": [],
   "source": [
    "data = []\n",
    "with open('temp/india.jsonl') as f:\n",
    "    for ix, line in enumerate(f.readlines()):\n",
    "        if ix in ixs:\n",
    "            data.append(json.loads(line.strip()))"
   ]
  },
  {
   "cell_type": "code",
   "execution_count": 5,
   "id": "9d1382b6",
   "metadata": {},
   "outputs": [
    {
     "data": {
      "text/plain": [
       "579"
      ]
     },
     "execution_count": 5,
     "metadata": {},
     "output_type": "execute_result"
    }
   ],
   "source": [
    "len(data)"
   ]
  },
  {
   "cell_type": "code",
   "execution_count": 7,
   "id": "999318e3",
   "metadata": {},
   "outputs": [],
   "source": [
    "with open('tests/slow_data.jsonl', 'w+') as f:\n",
    "    for x in data:\n",
    "        z = {'text': x['content']}\n",
    "        f.write(json.dumps(z) + '\\n')"
   ]
  },
  {
   "cell_type": "code",
   "execution_count": 4,
   "id": "ae9d80a6",
   "metadata": {},
   "outputs": [],
   "source": [
    "import json\n",
    "\n",
    "from text_cleaning.pipelines.twitter.en import TwitterEnglishTextCleaningPipeline"
   ]
  },
  {
   "cell_type": "code",
   "execution_count": 2,
   "id": "5d62aa53",
   "metadata": {},
   "outputs": [],
   "source": [
    "pipeline = TwitterEnglishTextCleaningPipeline(profile=True)"
   ]
  },
  {
   "cell_type": "code",
   "execution_count": 5,
   "id": "0fb85738",
   "metadata": {},
   "outputs": [],
   "source": [
    "with open('tests/slow_data.jsonl') as f:\n",
    "    data = [json.loads(l.strip()) for l in f.readlines()]"
   ]
  },
  {
   "cell_type": "code",
   "execution_count": 7,
   "id": "fa9f929a",
   "metadata": {},
   "outputs": [],
   "source": [
    "for x in data:\n",
    "    _ = pipeline(x['text'])"
   ]
  },
  {
   "cell_type": "code",
   "execution_count": 9,
   "id": "0f5b9fca",
   "metadata": {},
   "outputs": [
    {
     "data": {
      "text/plain": [
       "{'NormalizeWhitespace': 0.00022946244076743646,\n",
       " 'SingleNewlineToSpace': 0.07070684350628104,\n",
       " 'RemoveTrailingApostropheS': 0.0004167717355520614,\n",
       " 'RemoveGarbage': 2.250481969540189e-05,\n",
       " 'ReplaceMentions': 9.591344724665033e-05,\n",
       " 'StandardizeText': 9.219675278210681e-07,\n",
       " 'LowerCase': 6.725956944809882e-06}"
      ]
     },
     "execution_count": 9,
     "metadata": {},
     "output_type": "execute_result"
    }
   ],
   "source": [
    "{n: sum(v) / len(v) for n, v in pipeline.func_to_times.items()}"
   ]
  },
  {
   "cell_type": "code",
   "execution_count": 10,
   "id": "9240fefd",
   "metadata": {},
   "outputs": [
    {
     "data": {
      "text/plain": [
       "{'NormalizeWhitespace': 0.002238035202026367,\n",
       " 'SingleNewlineToSpace': 3.9552524089813232,\n",
       " 'RemoveTrailingApostropheS': 0.003857135772705078,\n",
       " 'RemoveGarbage': 0.0005774497985839844,\n",
       " 'ReplaceMentions': 0.0007236003875732422,\n",
       " 'StandardizeText': 4.0531158447265625e-06,\n",
       " 'LowerCase': 8.893013000488281e-05}"
      ]
     },
     "execution_count": 10,
     "metadata": {},
     "output_type": "execute_result"
    }
   ],
   "source": [
    "{n: max(v) for n, v in pipeline.func_to_times.items()}"
   ]
  },
  {
   "cell_type": "code",
   "execution_count": null,
   "id": "a90ac3e8",
   "metadata": {},
   "outputs": [],
   "source": []
  }
 ],
 "metadata": {
  "kernelspec": {
   "display_name": "Python 3 (ipykernel)",
   "language": "python",
   "name": "python3"
  },
  "language_info": {
   "codemirror_mode": {
    "name": "ipython",
    "version": 3
   },
   "file_extension": ".py",
   "mimetype": "text/x-python",
   "name": "python",
   "nbconvert_exporter": "python",
   "pygments_lexer": "ipython3",
   "version": "3.9.5"
  }
 },
 "nbformat": 4,
 "nbformat_minor": 5
}
